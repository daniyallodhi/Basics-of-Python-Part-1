{
 "cells": [
  {
   "cell_type": "markdown",
   "id": "c8386c40",
   "metadata": {},
   "source": [
    "# Hello World Code in Python\n",
    "\n",
    "### Code by Daniyal Lodhi"
   ]
  },
  {
   "cell_type": "code",
   "execution_count": null,
   "id": "083264d3",
   "metadata": {},
   "outputs": [],
   "source": [
    "print (\"Hello World!\")"
   ]
  },
  {
   "cell_type": "markdown",
   "id": "71607a7e",
   "metadata": {},
   "source": [
    "# Operators"
   ]
  },
  {
   "cell_type": "code",
   "execution_count": 3,
   "id": "55545a14",
   "metadata": {},
   "outputs": [
    {
     "name": "stdout",
     "output_type": "stream",
     "text": [
      "3\n",
      "3.0\n",
      "1\n",
      "16\n",
      "3\n",
      "20.133333333333333\n"
     ]
    }
   ],
   "source": [
    "print(2+1)  #sum or adding to numbers\n",
    "print(9/3)  #division\n",
    "print(17%2) #modulus\n",
    "print(2**4) #for square used this\n",
    "print(6//2) #to get answer in int\n",
    "print(2**4/3*4+4/5-2)  #PEMDAS Prenthesis, Exponent, Multiplication, Division, Add and Sub"
   ]
  },
  {
   "cell_type": "markdown",
   "id": "f0c84ee9",
   "metadata": {},
   "source": [
    "# Strings"
   ]
  },
  {
   "cell_type": "code",
   "execution_count": 1,
   "id": "ae6f8c3d",
   "metadata": {},
   "outputs": [
    {
     "name": "stdout",
     "output_type": "stream",
     "text": [
      "This is String\n",
      "This is also used for string\n",
      "This is also used for string\n"
     ]
    }
   ],
   "source": [
    "print(\"This is String\")\n",
    "print('This is also used for string')\n",
    "print('''This is also used for string''')"
   ]
  },
  {
   "cell_type": "markdown",
   "id": "ede8004d",
   "metadata": {},
   "source": [
    "# Variable"
   ]
  },
  {
   "cell_type": "code",
   "execution_count": 4,
   "id": "0c6bc153",
   "metadata": {},
   "outputs": [
    {
     "name": "stdout",
     "output_type": "stream",
     "text": [
      "9\n"
     ]
    }
   ],
   "source": [
    "x=2\n",
    "y=3\n",
    "z=x+4+y\n",
    "print (z)"
   ]
  },
  {
   "cell_type": "markdown",
   "id": "8712089e",
   "metadata": {},
   "source": [
    "# InPut"
   ]
  },
  {
   "cell_type": "code",
   "execution_count": 7,
   "id": "0c55b455",
   "metadata": {},
   "outputs": [
    {
     "name": "stdout",
     "output_type": "stream",
     "text": [
      "Enter Your Name# Daniyal Lodhi\n",
      "Your name is Daniyal Lodhi\n"
     ]
    }
   ],
   "source": [
    "name=input(\"Enter Your Name# \") \n",
    "print(\"Your name is \"+name)"
   ]
  },
  {
   "cell_type": "markdown",
   "id": "896e214c",
   "metadata": {},
   "source": [
    "# if else"
   ]
  },
  {
   "cell_type": "code",
   "execution_count": 9,
   "id": "dc8f58c5",
   "metadata": {},
   "outputs": [
    {
     "name": "stdout",
     "output_type": "stream",
     "text": [
      "b is greater\n"
     ]
    }
   ],
   "source": [
    "a=3\n",
    "b=5\n",
    "if a>b:\n",
    "    print(\"a is greater then b\")\n",
    "elif a<b:\n",
    "    print(\"b is greater\")\n",
    "else:\n",
    "    print (\"Both are equal\")"
   ]
  },
  {
   "cell_type": "markdown",
   "id": "0e094e23",
   "metadata": {},
   "source": [
    "# While Loop"
   ]
  },
  {
   "cell_type": "code",
   "execution_count": null,
   "id": "3bdc17a4",
   "metadata": {},
   "outputs": [],
   "source": [
    "i = 1\n",
    "while i < 6:\n",
    "  print(i)\n",
    "  i += 1"
   ]
  },
  {
   "cell_type": "markdown",
   "id": "e4d3dd3f",
   "metadata": {},
   "source": [
    "# For Loop"
   ]
  },
  {
   "cell_type": "code",
   "execution_count": 14,
   "id": "15838537",
   "metadata": {},
   "outputs": [
    {
     "name": "stdout",
     "output_type": "stream",
     "text": [
      "0\n",
      "1\n",
      "2\n",
      "3\n",
      "4\n",
      "5\n",
      "Finally finished!\n",
      "Car\n",
      "Van\n",
      "Bus\n"
     ]
    }
   ],
   "source": [
    "for x in range(6):\n",
    "  print(x)\n",
    "else:\n",
    "  print(\"Finally finished!\")\n",
    "\n",
    "#Method2\n",
    "Vehicle = [\"Car\", \"Van\", \"Bus\"]\n",
    "for x in Vehicle:\n",
    "  print(x)"
   ]
  }
 ],
 "metadata": {
  "kernelspec": {
   "display_name": "Python 3 (ipykernel)",
   "language": "python",
   "name": "python3"
  },
  "language_info": {
   "codemirror_mode": {
    "name": "ipython",
    "version": 3
   },
   "file_extension": ".py",
   "mimetype": "text/x-python",
   "name": "python",
   "nbconvert_exporter": "python",
   "pygments_lexer": "ipython3",
   "version": "3.9.13"
  }
 },
 "nbformat": 4,
 "nbformat_minor": 5
}
